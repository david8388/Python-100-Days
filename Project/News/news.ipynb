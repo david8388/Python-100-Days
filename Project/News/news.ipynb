{
 "cells": [
  {
   "cell_type": "code",
   "execution_count": 8,
   "metadata": {},
   "outputs": [],
   "source": [
    "import requests"
   ]
  },
  {
   "cell_type": "code",
   "execution_count": 9,
   "metadata": {},
   "outputs": [],
   "source": [
    "from bs4 import BeautifulSoup"
   ]
  },
  {
   "cell_type": "code",
   "execution_count": 10,
   "metadata": {},
   "outputs": [],
   "source": [
    "r = requests.get('https://tw.yahoo.com/?p=us')"
   ]
  },
  {
   "cell_type": "code",
   "execution_count": 11,
   "metadata": {},
   "outputs": [
    {
     "name": "stdout",
     "output_type": "stream",
     "text": [
      "News:  危機！全球最大保險套廠商停工\n",
      "News:  馬來西亞因疫情實施封鎖政策，Karex Bhd旗下3座\n",
      "News:  悲 義大利單日增近千死 再創紀錄\n",
      "News:  死亡案例累計達9134例，為全球新冠肺炎死亡人數最高\n",
      "News:  領口罩「強迫買咖啡」全家開鍘\n",
      "News:  網友爆料，店員說「不買咖啡就拿不到口罩」，\n",
      "News:  東北季風增強 明清晨下探14度\n",
      "News:  越晚越冷！鋒面已經通過台灣，雨勢會漸漸趨緩\n",
      "News:  防疫還是要操肌 靠這4招練全身\n",
      "News:  居家徒手運動之前，有幾件事情必須注意，\n",
      "News:  台啤8連勝 蔣淯安獲選單周MVP\n",
      "News:  憑藉優異防守及良好的組織能力，繳出場均13.5分、3.8助攻...\n",
      "News:  心繫達拉斯 德佬捐300萬助防疫\n",
      "News:  雖然已經退休，仍暖心捐出善款，提供超過1萬4千個餐盒給民眾...\n",
      "News:  接觸確診球員 中日龍隔離15人\n",
      "News:  曾和阪神虎進行2場練習比賽，染疫的外野手伊藤隼太這期間...\n",
      "News:  許基宏轟不停 兄弟連7戰不敗\n",
      "News:  3打數都是安打，二軍打擊率上升到5成...\n",
      "News:  疫情肆虐美國 MLB開賽有3前提\n",
      "News:  球隊老闆與工會達成協議，即便要到11月底才打世界大賽也在所不惜...\n",
      "News:  復合了？羅志祥、周揚青曬恩愛\n",
      "News:  兩人被網友發現拍了同款的特效影片，隔空放閃...\n",
      "News:  哀慟離開劉真靈堂 辛龍掩面哭泣\n",
      "News:  他仍然無法走出傷痛，讓前來弔唁的藝人都相當擔心...\n",
      "News:  網呼「流感」神預言 病毒襲南韓\n",
      "News:  故事敘述政府為防止疫情向全球擴散，頒布緊急封鎖令...\n",
      "News:  小蜘蛛揪復仇者 挑戰伏地挺身\n",
      "News:  點名「一坨人」，網敲碗要小勞勃道尼快出來面對，\n",
      "News:  陳美鳳歎愛情太短暫 曝劉真私下模樣\n",
      "News:  陳美鳳嘆辛龍愛情太短暫 曝劉真私下 談老公模樣\n",
      "News:  女子爽中3千萬 她：早就有預感\n",
      "News:  善有善報～夫妻在路邊救下差點被撞的孩童，就突然想去買彩券\n",
      "News:  內科人爆排 入座見菜色卻愣3秒\n",
      "News:  叉燒分量很有誠意！瘦肉吃起來軟嫩好吃，一點也不顯乾澀\n",
      "News:  女友硬要出去玩 曝目的地吵翻\n",
      "News:  該怎麼辦？難道現在國內旅遊也不行嗎？引發兩派論戰勸女友取消\n",
      "News:  2身分轉換 正妹治療師迷上它\n",
      "News:  身兼展場Showgirl，平常工作壓力大，下班後透過手遊來解壓\n",
      "News:  精通4國語言主管缺 薪水曝搖頭\n",
      "News:  徵求「國際貿易高級專員」，除了要求語言外還要國立大學，卻\n",
      "News:  腎不好看臉就知 5種臉色是警訊\n",
      "News:  臉色透露內臟問題：如洗腎患者的臉色通常「偏黑」潮紅\n",
      "News:  40歲代謝走下坡！助燃脂5食材\n",
      "News:  不減食量打造易瘦體質，日本中醫藥膳師將主食換成大麥\n",
      "News:  在家工作8hr 舒適小物買起來\n",
      "News:  先準備好！高機動行動辦公板走到哪都可工作，加一塊彈性\n",
      "News:  20年維持41kg Jolin吃火鍋祕技\n",
      "News:  天后公開：避開5大地雷，湯頭清澈沒複雜醬料，多吃大量蔬菜少紅肉\n",
      "News:  一咖耐髒背好久 內行懂買美包\n",
      "News:  經典黑色或深色是首選，百搭人氣精品包一次整理好更懂買\n",
      "News:  「不完美的她」超強卡司亮相\n",
      "News:  期待！周迅聯手惠英紅、趙雅芝，上演「自我救贖」大戲\n",
      "News:  高顏值CP「記得愛情」周末追\n",
      "News:  翻拍經典偶像劇「王子變青蛙」金澤、邢菲擔任男女主角\n",
      "News:  揭祕豪門命案 懸疑劇情線上看\n",
      "News:  燒腦！劇情「法醫秦明之亡命救贖」實力派演員尬戲破解\n",
      "News:  外科醫突遭拔職？第3集抖黑幕\n",
      "News:  話題劇「外科風雲」因不滿上司隱瞞事實反抗結果被通知\n",
      "News:  母湯！水果吃錯時間 運動也胖\n",
      "News:  果汁代替也不行，吃水果還能減肥的時機在運動前一小時\n"
     ]
    }
   ],
   "source": [
    "if r.status_code == requests.codes.ok:\n",
    "    soup = BeautifulSoup(r.text, 'html.parser')\n",
    "    \n",
    "    stories = soup.find_all('span', class_='Va-tt')\n",
    "    for s in stories:\n",
    "        print('News: ', s.text)"
   ]
  },
  {
   "cell_type": "code",
   "execution_count": null,
   "metadata": {},
   "outputs": [],
   "source": []
  }
 ],
 "metadata": {
  "kernelspec": {
   "display_name": "Python 3",
   "language": "python",
   "name": "python3"
  },
  "language_info": {
   "codemirror_mode": {
    "name": "ipython",
    "version": 3
   },
   "file_extension": ".py",
   "mimetype": "text/x-python",
   "name": "python",
   "nbconvert_exporter": "python",
   "pygments_lexer": "ipython3",
   "version": "3.7.3"
  }
 },
 "nbformat": 4,
 "nbformat_minor": 2
}
