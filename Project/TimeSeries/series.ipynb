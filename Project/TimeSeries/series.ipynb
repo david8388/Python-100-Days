{
 "cells": [
  {
   "cell_type": "code",
   "execution_count": 50,
   "metadata": {},
   "outputs": [],
   "source": [
    "import pandas as pd"
   ]
  },
  {
   "cell_type": "code",
   "execution_count": 55,
   "metadata": {},
   "outputs": [],
   "source": [
    "df = pd.read_csv('test.csv', parse_dates=['date'])"
   ]
  },
  {
   "cell_type": "code",
   "execution_count": 56,
   "metadata": {},
   "outputs": [
    {
     "data": {
      "text/html": [
       "<div>\n",
       "<style scoped>\n",
       "    .dataframe tbody tr th:only-of-type {\n",
       "        vertical-align: middle;\n",
       "    }\n",
       "\n",
       "    .dataframe tbody tr th {\n",
       "        vertical-align: top;\n",
       "    }\n",
       "\n",
       "    .dataframe thead th {\n",
       "        text-align: right;\n",
       "    }\n",
       "</style>\n",
       "<table border=\"1\" class=\"dataframe\">\n",
       "  <thead>\n",
       "    <tr style=\"text-align: right;\">\n",
       "      <th></th>\n",
       "      <th>date</th>\n",
       "      <th>value</th>\n",
       "    </tr>\n",
       "  </thead>\n",
       "  <tbody>\n",
       "    <tr>\n",
       "      <th>0</th>\n",
       "      <td>1991-01-01</td>\n",
       "      <td>3.526591</td>\n",
       "    </tr>\n",
       "    <tr>\n",
       "      <th>1</th>\n",
       "      <td>1992-01-01</td>\n",
       "      <td>3.180891</td>\n",
       "    </tr>\n",
       "    <tr>\n",
       "      <th>2</th>\n",
       "      <td>1993-01-01</td>\n",
       "      <td>3.252221</td>\n",
       "    </tr>\n",
       "    <tr>\n",
       "      <th>3</th>\n",
       "      <td>1994-01-01</td>\n",
       "      <td>3.611003</td>\n",
       "    </tr>\n",
       "    <tr>\n",
       "      <th>4</th>\n",
       "      <td>1995-01-01</td>\n",
       "      <td>3.565869</td>\n",
       "    </tr>\n",
       "  </tbody>\n",
       "</table>\n",
       "</div>"
      ],
      "text/plain": [
       "        date     value\n",
       "0 1991-01-01  3.526591\n",
       "1 1992-01-01  3.180891\n",
       "2 1993-01-01  3.252221\n",
       "3 1994-01-01  3.611003\n",
       "4 1995-01-01  3.565869"
      ]
     },
     "execution_count": 56,
     "metadata": {},
     "output_type": "execute_result"
    }
   ],
   "source": [
    "df.head()"
   ]
  },
  {
   "cell_type": "code",
   "execution_count": 57,
   "metadata": {},
   "outputs": [],
   "source": [
    "df = pd.read_csv('https://raw.githubusercontent.com/selva86/datasets/master/MarketArrivals.csv')"
   ]
  },
  {
   "cell_type": "code",
   "execution_count": 66,
   "metadata": {},
   "outputs": [],
   "source": [
    "df = df.loc[df.month == 'January', : ]"
   ]
  },
  {
   "cell_type": "code",
   "execution_count": 67,
   "metadata": {},
   "outputs": [
    {
     "data": {
      "text/html": [
       "<div>\n",
       "<style scoped>\n",
       "    .dataframe tbody tr th:only-of-type {\n",
       "        vertical-align: middle;\n",
       "    }\n",
       "\n",
       "    .dataframe tbody tr th {\n",
       "        vertical-align: top;\n",
       "    }\n",
       "\n",
       "    .dataframe thead th {\n",
       "        text-align: right;\n",
       "    }\n",
       "</style>\n",
       "<table border=\"1\" class=\"dataframe\">\n",
       "  <thead>\n",
       "    <tr style=\"text-align: right;\">\n",
       "      <th></th>\n",
       "      <th>market</th>\n",
       "      <th>month</th>\n",
       "      <th>year</th>\n",
       "      <th>quantity</th>\n",
       "      <th>priceMin</th>\n",
       "      <th>priceMax</th>\n",
       "      <th>priceMod</th>\n",
       "      <th>state</th>\n",
       "      <th>city</th>\n",
       "      <th>date</th>\n",
       "    </tr>\n",
       "  </thead>\n",
       "  <tbody>\n",
       "    <tr>\n",
       "      <th>90</th>\n",
       "      <td>AGRA(UP)</td>\n",
       "      <td>January</td>\n",
       "      <td>2005</td>\n",
       "      <td>6400</td>\n",
       "      <td>329</td>\n",
       "      <td>424</td>\n",
       "      <td>377</td>\n",
       "      <td>UP</td>\n",
       "      <td>AGRA</td>\n",
       "      <td>January-2005</td>\n",
       "    </tr>\n",
       "    <tr>\n",
       "      <th>91</th>\n",
       "      <td>AGRA(UP)</td>\n",
       "      <td>January</td>\n",
       "      <td>2006</td>\n",
       "      <td>11175</td>\n",
       "      <td>414</td>\n",
       "      <td>585</td>\n",
       "      <td>549</td>\n",
       "      <td>UP</td>\n",
       "      <td>AGRA</td>\n",
       "      <td>January-2006</td>\n",
       "    </tr>\n",
       "    <tr>\n",
       "      <th>92</th>\n",
       "      <td>AGRA(UP)</td>\n",
       "      <td>January</td>\n",
       "      <td>2007</td>\n",
       "      <td>10300</td>\n",
       "      <td>762</td>\n",
       "      <td>844</td>\n",
       "      <td>801</td>\n",
       "      <td>UP</td>\n",
       "      <td>AGRA</td>\n",
       "      <td>January-2007</td>\n",
       "    </tr>\n",
       "    <tr>\n",
       "      <th>93</th>\n",
       "      <td>AGRA(UP)</td>\n",
       "      <td>January</td>\n",
       "      <td>2008</td>\n",
       "      <td>50000</td>\n",
       "      <td>491</td>\n",
       "      <td>567</td>\n",
       "      <td>522</td>\n",
       "      <td>UP</td>\n",
       "      <td>AGRA</td>\n",
       "      <td>January-2008</td>\n",
       "    </tr>\n",
       "    <tr>\n",
       "      <th>94</th>\n",
       "      <td>AGRA(UP)</td>\n",
       "      <td>January</td>\n",
       "      <td>2009</td>\n",
       "      <td>26500</td>\n",
       "      <td>1220</td>\n",
       "      <td>1327</td>\n",
       "      <td>1259</td>\n",
       "      <td>UP</td>\n",
       "      <td>AGRA</td>\n",
       "      <td>January-2009</td>\n",
       "    </tr>\n",
       "  </tbody>\n",
       "</table>\n",
       "</div>"
      ],
      "text/plain": [
       "      market    month  year  quantity  priceMin  priceMax  priceMod state  \\\n",
       "90  AGRA(UP)  January  2005      6400       329       424       377    UP   \n",
       "91  AGRA(UP)  January  2006     11175       414       585       549    UP   \n",
       "92  AGRA(UP)  January  2007     10300       762       844       801    UP   \n",
       "93  AGRA(UP)  January  2008     50000       491       567       522    UP   \n",
       "94  AGRA(UP)  January  2009     26500      1220      1327      1259    UP   \n",
       "\n",
       "    city          date  \n",
       "90  AGRA  January-2005  \n",
       "91  AGRA  January-2006  \n",
       "92  AGRA  January-2007  \n",
       "93  AGRA  January-2008  \n",
       "94  AGRA  January-2009  "
      ]
     },
     "execution_count": 67,
     "metadata": {},
     "output_type": "execute_result"
    }
   ],
   "source": [
    "df.head()"
   ]
  },
  {
   "cell_type": "code",
   "execution_count": null,
   "metadata": {},
   "outputs": [],
   "source": []
  }
 ],
 "metadata": {
  "kernelspec": {
   "display_name": "Python 3",
   "language": "python",
   "name": "python3"
  },
  "language_info": {
   "codemirror_mode": {
    "name": "ipython",
    "version": 3
   },
   "file_extension": ".py",
   "mimetype": "text/x-python",
   "name": "python",
   "nbconvert_exporter": "python",
   "pygments_lexer": "ipython3",
   "version": "3.7.3"
  }
 },
 "nbformat": 4,
 "nbformat_minor": 2
}
